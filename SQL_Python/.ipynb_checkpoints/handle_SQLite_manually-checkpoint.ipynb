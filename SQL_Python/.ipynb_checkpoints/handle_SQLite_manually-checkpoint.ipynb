{
 "cells": [
  {
   "cell_type": "code",
   "execution_count": 1,
   "id": "093f71ff-7863-4d57-ab7c-de93eb678ec1",
   "metadata": {},
   "outputs": [],
   "source": [
    "import database as db"
   ]
  },
  {
   "cell_type": "code",
   "execution_count": 2,
   "id": "5cc8cf1d-ab68-48c9-8064-7bc1650ece8a",
   "metadata": {},
   "outputs": [
    {
     "name": "stdout",
     "output_type": "stream",
     "text": [
      "Welcome!\n"
     ]
    }
   ],
   "source": [
    "print('Welcome!')"
   ]
  },
  {
   "cell_type": "code",
   "execution_count": 3,
   "id": "25eb731b-2d92-4012-ae60-012fff5ef70d",
   "metadata": {},
   "outputs": [
    {
     "name": "stdin",
     "output_type": "stream",
     "text": [
      "Enter table name:  customers4\n"
     ]
    }
   ],
   "source": [
    "table = input('Enter table name: ')"
   ]
  },
  {
   "cell_type": "code",
   "execution_count": 4,
   "id": "f540da4f-4160-48f5-9c2e-cec78ab3e29f",
   "metadata": {},
   "outputs": [
    {
     "name": "stdin",
     "output_type": "stream",
     "text": [
      "create new table? Enter y/n:  n\n"
     ]
    }
   ],
   "source": [
    "db.create_table(table)"
   ]
  },
  {
   "cell_type": "code",
   "execution_count": 5,
   "id": "2abd3f2b-a19f-49b7-8813-1ff6cdcc8f79",
   "metadata": {},
   "outputs": [
    {
     "name": "stdin",
     "output_type": "stream",
     "text": [
      "insert new value to table? Enter y/n:  y\n",
      "Enter customer information:  \"David\", \"Twai\", 38\n",
      "insert new value to table again? Enter y/n:  y\n",
      "Enter customer information:  \"Kevin\", \"Roar\", 23\n",
      "insert new value to table again? Enter y/n:  y\n",
      "Enter customer information:  \"Felar\", \"Peter\", 54\n",
      "insert new value to table again? Enter y/n:  n\n"
     ]
    }
   ],
   "source": [
    "pms1 = input('insert new value to table? Enter y/n: ')\n",
    "if pms1 == 'y':\n",
    "    db.add_one(table)\n",
    "    while pms1 == 'y':\n",
    "        pms1 = input('insert new value to table again? Enter y/n: ')\n",
    "        if pms1 == 'y':\n",
    "            db.add_one(table)\n",
    "        elif pms1 == 'n':\n",
    "            pass\n",
    "elif pms1 == 'n':\n",
    "    pass"
   ]
  },
  {
   "cell_type": "code",
   "execution_count": 6,
   "id": "9ba7d7e8-15ef-4b85-8358-2316eaff99a4",
   "metadata": {},
   "outputs": [
    {
     "name": "stdin",
     "output_type": "stream",
     "text": [
      "Do you want to query the table? Enter y/n:  y\n"
     ]
    },
    {
     "name": "stdout",
     "output_type": "stream",
     "text": [
      "(1, 'Alex', 'Oscar', 35)\n",
      "(2, 'Canelo', 'Alvarez', 31)\n",
      "(3, 'David', 'Twai', 38)\n",
      "(4, 'Kevin', 'Roar', 23)\n",
      "(5, 'Felar', 'Peter', 54)\n"
     ]
    }
   ],
   "source": [
    "pms2 = input('Do you want to query the table? Enter y/n: ')\n",
    "if pms2 == 'y':\n",
    "    db.show_all(table)\n",
    "elif pms2 == 'n':\n",
    "    pass"
   ]
  },
  {
   "cell_type": "code",
   "execution_count": 7,
   "id": "165c532b-fd51-40d4-9ba3-0a581054b72e",
   "metadata": {},
   "outputs": [
    {
     "name": "stdin",
     "output_type": "stream",
     "text": [
      "Do you want to delete a value in the table? Enter y/n:  n\n"
     ]
    }
   ],
   "source": [
    "pms3 = input('Do you want to delete a value in the table? Enter y/n: ')\n",
    "if pms3 == 'y':\n",
    "    db.delete_one(table)\n",
    "elif pms3 == 'n':\n",
    "    pass"
   ]
  },
  {
   "cell_type": "code",
   "execution_count": 8,
   "id": "4526bef7-e823-49a8-b327-9fdf419accdf",
   "metadata": {},
   "outputs": [
    {
     "name": "stdout",
     "output_type": "stream",
     "text": [
      "Congratulations! You are successful creating new table\n"
     ]
    }
   ],
   "source": [
    "print('Congratulations! You are successful creating new table')"
   ]
  },
  {
   "cell_type": "code",
   "execution_count": 9,
   "id": "ac869387-e2fa-4fab-8de1-5e787d8ffb65",
   "metadata": {},
   "outputs": [
    {
     "name": "stdout",
     "output_type": "stream",
     "text": [
      "(1, 'Alex', 'Oscar', 35)\n",
      "(2, 'Canelo', 'Alvarez', 31)\n",
      "(3, 'David', 'Twai', 38)\n",
      "(4, 'Kevin', 'Roar', 23)\n",
      "(5, 'Felar', 'Peter', 54)\n"
     ]
    }
   ],
   "source": [
    "db.show_all(table)"
   ]
  },
  {
   "cell_type": "code",
   "execution_count": 11,
   "id": "5521ce49-bf19-4098-a810-9fe97ba5d8c0",
   "metadata": {},
   "outputs": [
    {
     "name": "stderr",
     "output_type": "stream",
     "text": [
      "[NbConvertApp] Converting notebook handle_SQLite_manually.ipynb to python\n",
      "[NbConvertApp] Writing 1000 bytes to handle_SQLite_manually.py\n"
     ]
    }
   ],
   "source": [
    "#!jupyter nbconvert --to python handle_SQLite_manually.ipynb"
   ]
  },
  {
   "cell_type": "code",
   "execution_count": null,
   "id": "832bdda3-f1ce-4677-a409-b0cc49e911c8",
   "metadata": {},
   "outputs": [],
   "source": []
  }
 ],
 "metadata": {
  "kernelspec": {
   "display_name": "Python 3",
   "language": "python",
   "name": "python3"
  },
  "language_info": {
   "codemirror_mode": {
    "name": "ipython",
    "version": 3
   },
   "file_extension": ".py",
   "mimetype": "text/x-python",
   "name": "python",
   "nbconvert_exporter": "python",
   "pygments_lexer": "ipython3",
   "version": "3.8.5"
  }
 },
 "nbformat": 4,
 "nbformat_minor": 5
}
