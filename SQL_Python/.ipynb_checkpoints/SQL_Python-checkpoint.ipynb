{
 "cells": [
  {
   "cell_type": "code",
   "execution_count": 1,
   "id": "58fe0f23-bd14-46d3-9260-88463b60b502",
   "metadata": {},
   "outputs": [],
   "source": [
    "# https://youtu.be/byHcYRpMgI4"
   ]
  },
  {
   "cell_type": "code",
   "execution_count": 2,
   "id": "90499284-5376-4862-b588-637c2a8999dd",
   "metadata": {},
   "outputs": [],
   "source": [
    "import sqlite3"
   ]
  },
  {
   "cell_type": "code",
   "execution_count": 3,
   "id": "3d853f43-ee7f-47eb-a541-0faf50990cc0",
   "metadata": {},
   "outputs": [],
   "source": [
    "conn = sqlite3.connect('customer.db') # creatig a new dbfile or connect to the file"
   ]
  },
  {
   "cell_type": "code",
   "execution_count": 4,
   "id": "a0958d5c-a271-4e20-8e42-05e3f7cded86",
   "metadata": {},
   "outputs": [],
   "source": [
    "cur = conn.cursor() # you use it to handle this"
   ]
  },
  {
   "cell_type": "code",
   "execution_count": 5,
   "id": "d59f1d46-1d17-4d19-8a42-15ce51d09be3",
   "metadata": {},
   "outputs": [],
   "source": [
    "# create a table in database\n",
    "try:\n",
    "    cur.execute(\"\"\"CREATE TABLE customers(\n",
    "                first_name text,\n",
    "                last_name text,\n",
    "                email text)\n",
    "        \"\"\")\n",
    "except:\n",
    "    pass\n",
    "# Datatypes:\n",
    "# NULL\n",
    "# INTEGER\n",
    "# REAL\n",
    "# TEXT\n",
    "# BLOB"
   ]
  },
  {
   "cell_type": "code",
   "execution_count": 6,
   "id": "8a7ebaf9-4cdd-4669-8e1a-e73a391d28e0",
   "metadata": {},
   "outputs": [
    {
     "data": {
      "text/plain": [
       "<sqlite3.Cursor at 0x15d8a0b2420>"
      ]
     },
     "execution_count": 6,
     "metadata": {},
     "output_type": "execute_result"
    }
   ],
   "source": [
    "insert = '''INSERT INTO customers VALUES('Tim', 'John', 'tim@company2.com')\n",
    "    '''\n",
    "cur.execute(insert)"
   ]
  },
  {
   "cell_type": "code",
   "execution_count": 7,
   "id": "7b57fc18-7979-48de-a79d-989947d51957",
   "metadata": {},
   "outputs": [
    {
     "data": {
      "text/plain": [
       "<sqlite3.Cursor at 0x15d8a0b2420>"
      ]
     },
     "execution_count": 7,
     "metadata": {},
     "output_type": "execute_result"
    }
   ],
   "source": [
    "# Insert many informamtion at the same time\n",
    "many_customers = [('Wes', 'Brown', 'wes@brown.com'),\n",
    "                  ('Steph', 'Kuewa', 'steph@kuewa.com'),\n",
    "                  ('Daruton', 'Pas', 'daruton@pas.com')]\n",
    "cur.executemany('INSERT INTO customers VALUES(?,?,?)', many_customers)"
   ]
  },
  {
   "cell_type": "code",
   "execution_count": 8,
   "id": "8fb0ab03-597d-40d8-9b30-1c49e49e8fdc",
   "metadata": {},
   "outputs": [
    {
     "data": {
      "text/plain": [
       "[('Tim', 'Smith', 'tim@company.com'),\n",
       " ('Will', 'Smith', 'tim@company.com'),\n",
       " ('Tim', 'John', 'tim@company2.com'),\n",
       " ('Wes', 'Brown', 'wes@brown.com'),\n",
       " ('Steph', 'Kuewa', 'steph@kuewa.com'),\n",
       " ('Daruton', 'Pas', 'daruton@pas.com'),\n",
       " ('Wes', 'Brown', 'wes@brown.com'),\n",
       " ('Steph', 'Kuewa', 'steph@kuewa.com'),\n",
       " ('Daruton', 'Pas', 'daruton@pas.com'),\n",
       " ('Tim', 'John', 'tim@company2.com'),\n",
       " ('Wes', 'Brown', 'wes@brown.com'),\n",
       " ('Steph', 'Kuewa', 'steph@kuewa.com'),\n",
       " ('Daruton', 'Pas', 'daruton@pas.com'),\n",
       " ('Tim', 'John', 'tim@company2.com'),\n",
       " ('Wes', 'Brown', 'wes@brown.com'),\n",
       " ('Steph', 'Kuewa', 'steph@kuewa.com'),\n",
       " ('Daruton', 'Pas', 'daruton@pas.com'),\n",
       " ('Tim', 'John', 'tim@company2.com'),\n",
       " ('Wes', 'Brown', 'wes@brown.com'),\n",
       " ('Steph', 'Kuewa', 'steph@kuewa.com'),\n",
       " ('Daruton', 'Pas', 'daruton@pas.com')]"
      ]
     },
     "execution_count": 8,
     "metadata": {},
     "output_type": "execute_result"
    }
   ],
   "source": [
    "# Query the table(query: 問い合わせするという意味)\n",
    "view = 'SELECT * FROM customers'\n",
    "cur.execute(view)\n",
    "#cur.fetchone()\n",
    "#cur.fetchmany(3)\n",
    "cur.fetchall()\n",
    "\n",
    "# When you do this file in terminal\n",
    "#print(cur.fetchall())"
   ]
  },
  {
   "cell_type": "code",
   "execution_count": 9,
   "id": "7724b56b-a661-4e44-bb0b-7ffe0f8efd69",
   "metadata": {},
   "outputs": [
    {
     "name": "stdout",
     "output_type": "stream",
     "text": [
      "[('Tim', 'Smith', 'tim@company.com'), ('Will', 'Smith', 'tim@company.com'), ('Tim', 'John', 'tim@company2.com'), ('Wes', 'Brown', 'wes@brown.com'), ('Steph', 'Kuewa', 'steph@kuewa.com'), ('Daruton', 'Pas', 'daruton@pas.com'), ('Wes', 'Brown', 'wes@brown.com'), ('Steph', 'Kuewa', 'steph@kuewa.com'), ('Daruton', 'Pas', 'daruton@pas.com'), ('Tim', 'John', 'tim@company2.com'), ('Wes', 'Brown', 'wes@brown.com'), ('Steph', 'Kuewa', 'steph@kuewa.com'), ('Daruton', 'Pas', 'daruton@pas.com'), ('Tim', 'John', 'tim@company2.com'), ('Wes', 'Brown', 'wes@brown.com'), ('Steph', 'Kuewa', 'steph@kuewa.com'), ('Daruton', 'Pas', 'daruton@pas.com'), ('Tim', 'John', 'tim@company2.com'), ('Wes', 'Brown', 'wes@brown.com'), ('Steph', 'Kuewa', 'steph@kuewa.com'), ('Daruton', 'Pas', 'daruton@pas.com')]\n"
     ]
    }
   ],
   "source": [
    "cur.execute(view)\n",
    "print(cur.fetchall())"
   ]
  },
  {
   "cell_type": "code",
   "execution_count": 10,
   "id": "e57ee9f5-b49f-49a9-ba68-2436022077bc",
   "metadata": {},
   "outputs": [
    {
     "name": "stdout",
     "output_type": "stream",
     "text": [
      "('Tim', 'Smith', 'tim@company.com')\n",
      "('Will', 'Smith', 'tim@company.com')\n",
      "('Tim', 'John', 'tim@company2.com')\n",
      "('Wes', 'Brown', 'wes@brown.com')\n",
      "('Steph', 'Kuewa', 'steph@kuewa.com')\n",
      "('Daruton', 'Pas', 'daruton@pas.com')\n",
      "('Wes', 'Brown', 'wes@brown.com')\n",
      "('Steph', 'Kuewa', 'steph@kuewa.com')\n",
      "('Daruton', 'Pas', 'daruton@pas.com')\n",
      "('Tim', 'John', 'tim@company2.com')\n",
      "('Wes', 'Brown', 'wes@brown.com')\n",
      "('Steph', 'Kuewa', 'steph@kuewa.com')\n",
      "('Daruton', 'Pas', 'daruton@pas.com')\n",
      "('Tim', 'John', 'tim@company2.com')\n",
      "('Wes', 'Brown', 'wes@brown.com')\n",
      "('Steph', 'Kuewa', 'steph@kuewa.com')\n",
      "('Daruton', 'Pas', 'daruton@pas.com')\n",
      "('Tim', 'John', 'tim@company2.com')\n",
      "('Wes', 'Brown', 'wes@brown.com')\n",
      "('Steph', 'Kuewa', 'steph@kuewa.com')\n",
      "('Daruton', 'Pas', 'daruton@pas.com')\n"
     ]
    }
   ],
   "source": [
    "cur.execute(view)\n",
    "items = cur.fetchall()\n",
    "for item in items:\n",
    "    print(item)"
   ]
  },
  {
   "cell_type": "code",
   "execution_count": 11,
   "id": "f6db7711-2705-4353-912f-fa31ae49723c",
   "metadata": {},
   "outputs": [
    {
     "name": "stdout",
     "output_type": "stream",
     "text": [
      "Tim\n",
      "Will\n",
      "Tim\n",
      "Wes\n",
      "Steph\n",
      "Daruton\n",
      "Wes\n",
      "Steph\n",
      "Daruton\n",
      "Tim\n",
      "Wes\n",
      "Steph\n",
      "Daruton\n",
      "Tim\n",
      "Wes\n",
      "Steph\n",
      "Daruton\n",
      "Tim\n",
      "Wes\n",
      "Steph\n",
      "Daruton\n"
     ]
    }
   ],
   "source": [
    "cur.execute(view)\n",
    "items = cur.fetchall()\n",
    "for item in items:\n",
    "    print(item[0])"
   ]
  },
  {
   "cell_type": "code",
   "execution_count": 12,
   "id": "db63c964-2dce-4370-aea8-0adcd8dfb9b2",
   "metadata": {},
   "outputs": [
    {
     "name": "stdout",
     "output_type": "stream",
     "text": [
      "TimSmith | tim@company.com\n",
      "WillSmith | tim@company.com\n",
      "TimJohn | tim@company2.com\n",
      "WesBrown | wes@brown.com\n",
      "StephKuewa | steph@kuewa.com\n",
      "DarutonPas | daruton@pas.com\n",
      "WesBrown | wes@brown.com\n",
      "StephKuewa | steph@kuewa.com\n",
      "DarutonPas | daruton@pas.com\n",
      "TimJohn | tim@company2.com\n",
      "WesBrown | wes@brown.com\n",
      "StephKuewa | steph@kuewa.com\n",
      "DarutonPas | daruton@pas.com\n",
      "TimJohn | tim@company2.com\n",
      "WesBrown | wes@brown.com\n",
      "StephKuewa | steph@kuewa.com\n",
      "DarutonPas | daruton@pas.com\n",
      "TimJohn | tim@company2.com\n",
      "WesBrown | wes@brown.com\n",
      "StephKuewa | steph@kuewa.com\n",
      "DarutonPas | daruton@pas.com\n"
     ]
    }
   ],
   "source": [
    "cur.execute(view)\n",
    "items = cur.fetchall()\n",
    "for item in items:\n",
    "    print(item[0]+item[1]+' | '+item[2])"
   ]
  },
  {
   "cell_type": "code",
   "execution_count": 13,
   "id": "81ba2efc-66eb-4cc3-b19d-831a02a2353e",
   "metadata": {},
   "outputs": [
    {
     "name": "stdout",
     "output_type": "stream",
     "text": [
      "TimSmith\ttim@company.com\n",
      "WillSmith\ttim@company.com\n",
      "TimJohn\ttim@company2.com\n",
      "WesBrown\twes@brown.com\n",
      "StephKuewa\tsteph@kuewa.com\n",
      "DarutonPas\tdaruton@pas.com\n",
      "WesBrown\twes@brown.com\n",
      "StephKuewa\tsteph@kuewa.com\n",
      "DarutonPas\tdaruton@pas.com\n",
      "TimJohn\ttim@company2.com\n",
      "WesBrown\twes@brown.com\n",
      "StephKuewa\tsteph@kuewa.com\n",
      "DarutonPas\tdaruton@pas.com\n",
      "TimJohn\ttim@company2.com\n",
      "WesBrown\twes@brown.com\n",
      "StephKuewa\tsteph@kuewa.com\n",
      "DarutonPas\tdaruton@pas.com\n",
      "TimJohn\ttim@company2.com\n",
      "WesBrown\twes@brown.com\n",
      "StephKuewa\tsteph@kuewa.com\n",
      "DarutonPas\tdaruton@pas.com\n"
     ]
    }
   ],
   "source": [
    "cur.execute(view)\n",
    "items = cur.fetchall()\n",
    "for item in items:\n",
    "    print(item[0]+item[1]+'\\t'+item[2])"
   ]
  },
  {
   "cell_type": "code",
   "execution_count": 14,
   "id": "c04033a1-5d07-4de7-b804-a777aeed774f",
   "metadata": {},
   "outputs": [
    {
     "name": "stdout",
     "output_type": "stream",
     "text": [
      "NAME \t\tEMAIL\n",
      "-----\t\t-------\n",
      "TimSmith\t\ttim@company.com\n",
      "WillSmith\t\ttim@company.com\n",
      "TimJohn\t\ttim@company2.com\n",
      "WesBrown\t\twes@brown.com\n",
      "StephKuewa\t\tsteph@kuewa.com\n",
      "DarutonPas\t\tdaruton@pas.com\n",
      "WesBrown\t\twes@brown.com\n",
      "StephKuewa\t\tsteph@kuewa.com\n",
      "DarutonPas\t\tdaruton@pas.com\n",
      "TimJohn\t\ttim@company2.com\n",
      "WesBrown\t\twes@brown.com\n",
      "StephKuewa\t\tsteph@kuewa.com\n",
      "DarutonPas\t\tdaruton@pas.com\n",
      "TimJohn\t\ttim@company2.com\n",
      "WesBrown\t\twes@brown.com\n",
      "StephKuewa\t\tsteph@kuewa.com\n",
      "DarutonPas\t\tdaruton@pas.com\n",
      "TimJohn\t\ttim@company2.com\n",
      "WesBrown\t\twes@brown.com\n",
      "StephKuewa\t\tsteph@kuewa.com\n",
      "DarutonPas\t\tdaruton@pas.com\n"
     ]
    }
   ],
   "source": [
    "cur.execute(view)\n",
    "items = cur.fetchall()\n",
    "print('NAME ' + '\\t\\tEMAIL')\n",
    "print('-----'+'\\t\\t-------')\n",
    "for item in items:\n",
    "    print(item[0]+item[1]+'\\t\\t'+item[2])"
   ]
  },
  {
   "cell_type": "code",
   "execution_count": 15,
   "id": "fe5521d6-9929-4b0d-9319-76b80fcd4f60",
   "metadata": {},
   "outputs": [
    {
     "data": {
      "text/plain": [
       "[('Steph', 'Kuewa', 'steph@kuewa.com'),\n",
       " ('Steph', 'Kuewa', 'steph@kuewa.com'),\n",
       " ('Steph', 'Kuewa', 'steph@kuewa.com'),\n",
       " ('Steph', 'Kuewa', 'steph@kuewa.com'),\n",
       " ('Steph', 'Kuewa', 'steph@kuewa.com')]"
      ]
     },
     "execution_count": 15,
     "metadata": {},
     "output_type": "execute_result"
    }
   ],
   "source": [
    "# select specific parts\n",
    "part_view = 'SELECT * FROM customers WHERE last_name = \"Kuewa\" '\n",
    "cur.execute(part_view)\n",
    "cur.fetchall()"
   ]
  },
  {
   "cell_type": "code",
   "execution_count": 16,
   "id": "de95ad00-321c-491b-b5ac-832031879961",
   "metadata": {},
   "outputs": [
    {
     "data": {
      "text/plain": [
       "[('Wes', 'Brown', 'wes@brown.com'),\n",
       " ('Wes', 'Brown', 'wes@brown.com'),\n",
       " ('Wes', 'Brown', 'wes@brown.com'),\n",
       " ('Wes', 'Brown', 'wes@brown.com'),\n",
       " ('Wes', 'Brown', 'wes@brown.com')]"
      ]
     },
     "execution_count": 16,
     "metadata": {},
     "output_type": "execute_result"
    }
   ],
   "source": [
    "part_view2 = 'SELECT * FROM customers WHERE last_name like \"Br%\" ' # Strat from Br at last_name\n",
    "cur.execute(part_view2)\n",
    "cur.fetchall()"
   ]
  },
  {
   "cell_type": "code",
   "execution_count": 17,
   "id": "96496cbf-f1f0-4385-9592-f508aa92dde1",
   "metadata": {},
   "outputs": [
    {
     "data": {
      "text/plain": [
       "[('Tim', 'Smith', 'tim@company.com'), ('Will', 'Smith', 'tim@company.com')]"
      ]
     },
     "execution_count": 17,
     "metadata": {},
     "output_type": "execute_result"
    }
   ],
   "source": [
    "part_view3 = 'SELECT * FROM customers WHERE email LIKE \"%@company.com\"' # End to @company.com at email\n",
    "cur.execute(part_view3)\n",
    "cur.fetchall()"
   ]
  },
  {
   "cell_type": "code",
   "execution_count": 18,
   "id": "46477318-5243-4a3c-92a7-c20ce84b5f7a",
   "metadata": {},
   "outputs": [
    {
     "data": {
      "text/plain": [
       "[(1, 'Will', 'Smith', 'tim@company.com'),\n",
       " (3, 'Will', 'Smith', 'tim@company.com'),\n",
       " (4, 'Tim', 'John', 'tim@company2.com'),\n",
       " (5, 'Wes', 'Brown', 'wes@brown.com'),\n",
       " (6, 'Steph', 'Kuewa', 'steph@kuewa.com'),\n",
       " (7, 'Daruton', 'Pas', 'daruton@pas.com'),\n",
       " (8, 'Wes', 'Brown', 'wes@brown.com'),\n",
       " (9, 'Steph', 'Kuewa', 'steph@kuewa.com'),\n",
       " (10, 'Daruton', 'Pas', 'daruton@pas.com'),\n",
       " (11, 'Tim', 'John', 'tim@company2.com'),\n",
       " (12, 'Wes', 'Brown', 'wes@brown.com'),\n",
       " (13, 'Steph', 'Kuewa', 'steph@kuewa.com'),\n",
       " (14, 'Daruton', 'Pas', 'daruton@pas.com'),\n",
       " (15, 'Tim', 'John', 'tim@company2.com'),\n",
       " (16, 'Wes', 'Brown', 'wes@brown.com'),\n",
       " (17, 'Steph', 'Kuewa', 'steph@kuewa.com'),\n",
       " (18, 'Daruton', 'Pas', 'daruton@pas.com'),\n",
       " (19, 'Tim', 'John', 'tim@company2.com'),\n",
       " (20, 'Wes', 'Brown', 'wes@brown.com'),\n",
       " (21, 'Steph', 'Kuewa', 'steph@kuewa.com'),\n",
       " (22, 'Daruton', 'Pas', 'daruton@pas.com')]"
      ]
     },
     "execution_count": 18,
     "metadata": {},
     "output_type": "execute_result"
    }
   ],
   "source": [
    "# Update Records\n",
    "cur.execute('''UPDATE customers SET first_name = 'Will'\n",
    "            WHERE last_name = 'Smith'\n",
    "    ''')\n",
    "cur.execute('SELECT rowid, * FROM customers')\n",
    "cur.fetchall()"
   ]
  },
  {
   "cell_type": "code",
   "execution_count": 19,
   "id": "eb5eb2ff-2dca-40c0-9b78-c2a1166cd5cc",
   "metadata": {},
   "outputs": [
    {
     "data": {
      "text/plain": [
       "[(1, 'Tim', 'Smith', 'tim@company.com'),\n",
       " (3, 'Will', 'Smith', 'tim@company.com'),\n",
       " (4, 'Tim', 'John', 'tim@company2.com'),\n",
       " (5, 'Wes', 'Brown', 'wes@brown.com'),\n",
       " (6, 'Steph', 'Kuewa', 'steph@kuewa.com'),\n",
       " (7, 'Daruton', 'Pas', 'daruton@pas.com'),\n",
       " (8, 'Wes', 'Brown', 'wes@brown.com'),\n",
       " (9, 'Steph', 'Kuewa', 'steph@kuewa.com'),\n",
       " (10, 'Daruton', 'Pas', 'daruton@pas.com'),\n",
       " (11, 'Tim', 'John', 'tim@company2.com'),\n",
       " (12, 'Wes', 'Brown', 'wes@brown.com'),\n",
       " (13, 'Steph', 'Kuewa', 'steph@kuewa.com'),\n",
       " (14, 'Daruton', 'Pas', 'daruton@pas.com'),\n",
       " (15, 'Tim', 'John', 'tim@company2.com'),\n",
       " (16, 'Wes', 'Brown', 'wes@brown.com'),\n",
       " (17, 'Steph', 'Kuewa', 'steph@kuewa.com'),\n",
       " (18, 'Daruton', 'Pas', 'daruton@pas.com'),\n",
       " (19, 'Tim', 'John', 'tim@company2.com'),\n",
       " (20, 'Wes', 'Brown', 'wes@brown.com'),\n",
       " (21, 'Steph', 'Kuewa', 'steph@kuewa.com'),\n",
       " (22, 'Daruton', 'Pas', 'daruton@pas.com')]"
      ]
     },
     "execution_count": 19,
     "metadata": {},
     "output_type": "execute_result"
    }
   ],
   "source": [
    "cur.execute('UPDATE customers SET first_name = \"Tim\" WHERE rowId = 1' )\n",
    "cur.execute('SELECT rowid, * FROM customers')\n",
    "cur.fetchall()"
   ]
  },
  {
   "cell_type": "code",
   "execution_count": 20,
   "id": "b4dedd61-8212-4301-8fdb-47b26483bb79",
   "metadata": {},
   "outputs": [
    {
     "data": {
      "text/plain": [
       "[('Tim', 'Smith', 'tim@company.com'),\n",
       " ('Will', 'Smith', 'tim@company.com'),\n",
       " ('Tim', 'John', 'tim@company2.com'),\n",
       " ('Wes', 'Brown', 'wes@brown.com'),\n",
       " ('Steph', 'Kuewa', 'steph@kuewa.com'),\n",
       " ('Daruton', 'Pas', 'daruton@pas.com'),\n",
       " ('Wes', 'Brown', 'wes@brown.com'),\n",
       " ('Steph', 'Kuewa', 'steph@kuewa.com'),\n",
       " ('Daruton', 'Pas', 'daruton@pas.com'),\n",
       " ('Tim', 'John', 'tim@company2.com'),\n",
       " ('Wes', 'Brown', 'wes@brown.com'),\n",
       " ('Steph', 'Kuewa', 'steph@kuewa.com'),\n",
       " ('Daruton', 'Pas', 'daruton@pas.com'),\n",
       " ('Tim', 'John', 'tim@company2.com'),\n",
       " ('Wes', 'Brown', 'wes@brown.com'),\n",
       " ('Steph', 'Kuewa', 'steph@kuewa.com'),\n",
       " ('Daruton', 'Pas', 'daruton@pas.com'),\n",
       " ('Tim', 'John', 'tim@company2.com'),\n",
       " ('Wes', 'Brown', 'wes@brown.com'),\n",
       " ('Steph', 'Kuewa', 'steph@kuewa.com'),\n",
       " ('Daruton', 'Pas', 'daruton@pas.com')]"
      ]
     },
     "execution_count": 20,
     "metadata": {},
     "output_type": "execute_result"
    }
   ],
   "source": [
    "# Delete records\n",
    "cur.execute('DELETE from customers WHERE rowId = 2 AND first_name = \"Will\"')\n",
    "cur.execute('SELECT * FROM customers')\n",
    "cur.fetchall()"
   ]
  },
  {
   "cell_type": "code",
   "execution_count": 24,
   "id": "d3d0987d-45ac-463d-a780-152087c200c2",
   "metadata": {},
   "outputs": [
    {
     "data": {
      "text/plain": [
       "[(22, 'Daruton', 'Pas', 'daruton@pas.com'),\n",
       " (21, 'Steph', 'Kuewa', 'steph@kuewa.com'),\n",
       " (20, 'Wes', 'Brown', 'wes@brown.com'),\n",
       " (19, 'Tim', 'John', 'tim@company2.com'),\n",
       " (18, 'Daruton', 'Pas', 'daruton@pas.com'),\n",
       " (17, 'Steph', 'Kuewa', 'steph@kuewa.com'),\n",
       " (16, 'Wes', 'Brown', 'wes@brown.com'),\n",
       " (15, 'Tim', 'John', 'tim@company2.com'),\n",
       " (14, 'Daruton', 'Pas', 'daruton@pas.com'),\n",
       " (13, 'Steph', 'Kuewa', 'steph@kuewa.com'),\n",
       " (12, 'Wes', 'Brown', 'wes@brown.com'),\n",
       " (11, 'Tim', 'John', 'tim@company2.com'),\n",
       " (10, 'Daruton', 'Pas', 'daruton@pas.com'),\n",
       " (9, 'Steph', 'Kuewa', 'steph@kuewa.com'),\n",
       " (8, 'Wes', 'Brown', 'wes@brown.com'),\n",
       " (7, 'Daruton', 'Pas', 'daruton@pas.com'),\n",
       " (6, 'Steph', 'Kuewa', 'steph@kuewa.com'),\n",
       " (5, 'Wes', 'Brown', 'wes@brown.com'),\n",
       " (4, 'Tim', 'John', 'tim@company2.com'),\n",
       " (3, 'Will', 'Smith', 'tim@company.com'),\n",
       " (1, 'Tim', 'Smith', 'tim@company.com')]"
      ]
     },
     "execution_count": 24,
     "metadata": {},
     "output_type": "execute_result"
    }
   ],
   "source": [
    "# Query the database - Order By\n",
    "cur.execute('SELECT rowid, * FROM customers ORDER BY rowid DESC') # DESCENDING: High to low\n",
    "cur.fetchall()"
   ]
  },
  {
   "cell_type": "code",
   "execution_count": 25,
   "id": "8f085df2-6d01-47d8-b9ee-4c3fabdd7c02",
   "metadata": {},
   "outputs": [
    {
     "data": {
      "text/plain": [
       "[(5, 'Wes', 'Brown', 'wes@brown.com'),\n",
       " (8, 'Wes', 'Brown', 'wes@brown.com'),\n",
       " (12, 'Wes', 'Brown', 'wes@brown.com'),\n",
       " (16, 'Wes', 'Brown', 'wes@brown.com'),\n",
       " (20, 'Wes', 'Brown', 'wes@brown.com'),\n",
       " (4, 'Tim', 'John', 'tim@company2.com'),\n",
       " (11, 'Tim', 'John', 'tim@company2.com'),\n",
       " (15, 'Tim', 'John', 'tim@company2.com'),\n",
       " (19, 'Tim', 'John', 'tim@company2.com'),\n",
       " (6, 'Steph', 'Kuewa', 'steph@kuewa.com'),\n",
       " (9, 'Steph', 'Kuewa', 'steph@kuewa.com'),\n",
       " (13, 'Steph', 'Kuewa', 'steph@kuewa.com'),\n",
       " (17, 'Steph', 'Kuewa', 'steph@kuewa.com'),\n",
       " (21, 'Steph', 'Kuewa', 'steph@kuewa.com'),\n",
       " (7, 'Daruton', 'Pas', 'daruton@pas.com'),\n",
       " (10, 'Daruton', 'Pas', 'daruton@pas.com'),\n",
       " (14, 'Daruton', 'Pas', 'daruton@pas.com'),\n",
       " (18, 'Daruton', 'Pas', 'daruton@pas.com'),\n",
       " (22, 'Daruton', 'Pas', 'daruton@pas.com'),\n",
       " (1, 'Tim', 'Smith', 'tim@company.com'),\n",
       " (3, 'Will', 'Smith', 'tim@company.com')]"
      ]
     },
     "execution_count": 25,
     "metadata": {},
     "output_type": "execute_result"
    }
   ],
   "source": [
    "cur.execute('SELECT rowid, * FROM customers ORDER BY last_name')\n",
    "cur.fetchall()"
   ]
  },
  {
   "cell_type": "code",
   "execution_count": 28,
   "id": "1ac41a0f-3e03-43b4-804c-ab68315763d0",
   "metadata": {},
   "outputs": [
    {
     "data": {
      "text/plain": [
       "[(1, 'Tim', 'Smith', 'tim@company.com'),\n",
       " (4, 'Tim', 'John', 'tim@company2.com'),\n",
       " (6, 'Steph', 'Kuewa', 'steph@kuewa.com'),\n",
       " (9, 'Steph', 'Kuewa', 'steph@kuewa.com'),\n",
       " (11, 'Tim', 'John', 'tim@company2.com'),\n",
       " (13, 'Steph', 'Kuewa', 'steph@kuewa.com'),\n",
       " (15, 'Tim', 'John', 'tim@company2.com'),\n",
       " (17, 'Steph', 'Kuewa', 'steph@kuewa.com'),\n",
       " (19, 'Tim', 'John', 'tim@company2.com'),\n",
       " (21, 'Steph', 'Kuewa', 'steph@kuewa.com')]"
      ]
     },
     "execution_count": 28,
     "metadata": {},
     "output_type": "execute_result"
    }
   ],
   "source": [
    "# Query the database - AND/OR\n",
    "cur.execute('SELECT rowid, * FROM customers WHERE first_name = \"Tim\" OR first_name = \"Steph\"')\n",
    "cur.fetchall()"
   ]
  },
  {
   "cell_type": "code",
   "execution_count": 29,
   "id": "dea43ede-aecd-4cc7-aa26-07f8a45844ab",
   "metadata": {},
   "outputs": [
    {
     "data": {
      "text/plain": [
       "[(1, 'Tim', 'Smith', 'tim@company.com'),\n",
       " (3, 'Will', 'Smith', 'tim@company.com')]"
      ]
     },
     "execution_count": 29,
     "metadata": {},
     "output_type": "execute_result"
    }
   ],
   "source": [
    "# Query the database - LIMIT\n",
    "cur.execute('SELECT rowid, * FROM customers LIMIT 2')\n",
    "cur.fetchall()"
   ]
  },
  {
   "cell_type": "code",
   "execution_count": 31,
   "id": "14d1821b-2ae5-464b-847e-cabfcdcdb7b6",
   "metadata": {},
   "outputs": [
    {
     "name": "stdout",
     "output_type": "stream",
     "text": [
      "[(1, 'Eric', 'Hopkinz', 35, 'eric@hopz.com'), (2, 'Howms', 'Manchester', 29, 'howms@manchester.com'), (3, 'Gery', 'Alvert', 23, 'gery@crazyman.com'), (4, 'Wagen', 'Bandet', 42, 'wagen@bandet.com')]\n"
     ]
    },
    {
     "data": {
      "text/plain": [
       "<sqlite3.Cursor at 0x15d8a0b2420>"
      ]
     },
     "execution_count": 31,
     "metadata": {},
     "output_type": "execute_result"
    }
   ],
   "source": [
    "# Drop table\n",
    "try:\n",
    "    cur.execute('''CREATE table customers2(\n",
    "                first_name text,\n",
    "                last_name text,\n",
    "                age integer,\n",
    "                email text)''')\n",
    "except:\n",
    "    pass\n",
    "customers2 = [('Eric', 'Hopkinz', 35, 'eric@hopz.com'),\n",
    "              ('Howms', 'Manchester', 29, 'howms@manchester.com'),\n",
    "              ('Gery', 'Alvert', 23, 'gery@crazyman.com'),\n",
    "              ('Wagen', 'Bandet', 42, 'wagen@bandet.com')]\n",
    "cur.executemany('INSERT INTO customers2 VALUES(?,?,?,?)', customers2)\n",
    "cur.execute('SELECT rowid, * FROM customers2')\n",
    "print(cur.fetchall())\n",
    "cur.execute('DROP TABLE customers2')"
   ]
  },
  {
   "cell_type": "code",
   "execution_count": 37,
   "id": "b7fc84c1-dee3-409d-a36d-85d74b65e21e",
   "metadata": {},
   "outputs": [
    {
     "name": "stdout",
     "output_type": "stream",
     "text": [
      "The table customers2 does not exit\n"
     ]
    }
   ],
   "source": [
    "try:\n",
    "    cur.execute('SELECT rowid, * FROM customers2')\n",
    "    cur.fetchall()\n",
    "except:\n",
    "    print('The table customers2 does not exit')"
   ]
  },
  {
   "cell_type": "code",
   "execution_count": 21,
   "id": "a6ffb509-ad6f-4cf4-8413-6c5b3b5b84e9",
   "metadata": {},
   "outputs": [],
   "source": [
    "# Commit our commad(commit とは　transaction などの　分割できない操作をひとくくりにして変更を確定すること)\n",
    "#conn.commit()"
   ]
  },
  {
   "cell_type": "code",
   "execution_count": 22,
   "id": "cfc3d441-1e59-47f1-8564-9ea78002402d",
   "metadata": {},
   "outputs": [],
   "source": [
    "# Close our connection\n",
    "#conn.close()"
   ]
  },
  {
   "cell_type": "code",
   "execution_count": null,
   "id": "76cf581b-e0eb-4979-bd57-05eef58e2139",
   "metadata": {},
   "outputs": [],
   "source": []
  }
 ],
 "metadata": {
  "kernelspec": {
   "display_name": "Python 3",
   "language": "python",
   "name": "python3"
  },
  "language_info": {
   "codemirror_mode": {
    "name": "ipython",
    "version": 3
   },
   "file_extension": ".py",
   "mimetype": "text/x-python",
   "name": "python",
   "nbconvert_exporter": "python",
   "pygments_lexer": "ipython3",
   "version": "3.8.5"
  }
 },
 "nbformat": 4,
 "nbformat_minor": 5
}
