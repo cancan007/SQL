{
 "cells": [
  {
   "cell_type": "code",
   "execution_count": 1,
   "id": "60f95333-8a94-4187-9b28-b806784b2146",
   "metadata": {},
   "outputs": [],
   "source": [
    "import sqlite3"
   ]
  },
  {
   "cell_type": "code",
   "execution_count": 2,
   "id": "87d9b24e-c1a3-4063-8ff5-be631dd2943f",
   "metadata": {},
   "outputs": [],
   "source": [
    "def create_table(table):\n",
    "    conn = sqlite3.connect('customer_list.db')\n",
    "    cur = conn.cursor()\n",
    "    pms = input('create new table? Enter y/n: ')\n",
    "    if pms == 'y':\n",
    "        #table = input('Enter table name: ')\n",
    "        requires = input('Enter columns and datatypes. Ex \"first_name text, last_name text, age integer\": ')\n",
    "        text = 'CREATE TABLE {} ({})'.format(table, requires)\n",
    "        print(text)\n",
    "        try:\n",
    "            cur.execute('CREATE TABLE {} ({})'.format(table, requires))\n",
    "        except:\n",
    "            pass\n",
    "    elif pms == 'n':\n",
    "        pass\n",
    "    conn.commit()\n",
    "    conn.close()"
   ]
  },
  {
   "cell_type": "code",
   "execution_count": 3,
   "id": "ae99bc22-5937-4749-ae41-0ca88a6ed467",
   "metadata": {},
   "outputs": [],
   "source": [
    "def show_all(table):\n",
    "    conn = sqlite3.connect('customer_list.db')\n",
    "    cur = conn.cursor()\n",
    "    #name = input('Enter table name to query: ')\n",
    "    cur.execute('SELECT rowid, * FROM {}'.format(table))\n",
    "    items = cur.fetchall()\n",
    "    for item in items:\n",
    "        print(item)\n",
    "    conn.commit()\n",
    "    conn.close()"
   ]
  },
  {
   "cell_type": "code",
   "execution_count": 4,
   "id": "9870d531-10d7-4524-b335-1404dc1307ce",
   "metadata": {},
   "outputs": [],
   "source": [
    "def add_one(table):\n",
    "    conn = sqlite3.connect('customer_list.db')\n",
    "    cur = conn.cursor()\n",
    "    value = input('Enter customer information: ')\n",
    "    cur.execute('INSERT INTO {} VALUES({})'.format(table, value))\n",
    "    conn.commit()\n",
    "    conn.close()"
   ]
  },
  {
   "cell_type": "code",
   "execution_count": 5,
   "id": "f6793c02-a0c8-42a1-ac9d-f0eeb6019cff",
   "metadata": {},
   "outputs": [],
   "source": [
    "def delete_one(table):\n",
    "    conn = sqlite3.connect('customer_list.db')\n",
    "    cur = conn.cursor()\n",
    "    pms = input('You really want to delete data? Enter y/n: ')\n",
    "    if pms == 'y':\n",
    "        condition = input('Add conditions. Ex \"rowid > 3\"')\n",
    "        pms2 = input('Are you ready? Enter y/n: ')\n",
    "        if pms2 == 'y':\n",
    "            cur.execute('DELETE FROM {} WHERE {}'.format(table, condition))\n",
    "        elif pms2 == 'n':\n",
    "            pass\n",
    "    elif pms == 'n':\n",
    "        pass\n",
    "    conn.commit()\n",
    "    conn.close()"
   ]
  },
  {
   "cell_type": "code",
   "execution_count": 7,
   "id": "2a90117c-6d22-4b1c-81e1-86d1923499d2",
   "metadata": {},
   "outputs": [
    {
     "name": "stderr",
     "output_type": "stream",
     "text": [
      "[NbConvertApp] Converting notebook database.ipynb to python\n",
      "[NbConvertApp] Writing 1823 bytes to database.py\n"
     ]
    }
   ],
   "source": [
    "#!jupyter nbconvert --to python database.ipynb"
   ]
  },
  {
   "cell_type": "code",
   "execution_count": null,
   "id": "34c38b64-197f-42e7-886b-b4c8866c0f1d",
   "metadata": {},
   "outputs": [],
   "source": []
  }
 ],
 "metadata": {
  "kernelspec": {
   "display_name": "Python 3",
   "language": "python",
   "name": "python3"
  },
  "language_info": {
   "codemirror_mode": {
    "name": "ipython",
    "version": 3
   },
   "file_extension": ".py",
   "mimetype": "text/x-python",
   "name": "python",
   "nbconvert_exporter": "python",
   "pygments_lexer": "ipython3",
   "version": "3.8.5"
  }
 },
 "nbformat": 4,
 "nbformat_minor": 5
}
